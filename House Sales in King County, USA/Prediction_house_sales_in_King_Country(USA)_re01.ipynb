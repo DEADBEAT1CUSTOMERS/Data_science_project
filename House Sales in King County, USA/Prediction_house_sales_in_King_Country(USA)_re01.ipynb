{
 "cells": [
  {
   "cell_type": "markdown",
   "id": "8d44c3b2-7808-4164-8bdd-b6ebdb1d401d",
   "metadata": {},
   "source": [
    "Request necessary library"
   ]
  },
  {
   "cell_type": "code",
   "execution_count": 1,
   "id": "6d11af68-b80c-4e80-b19b-7e1953b328f6",
   "metadata": {},
   "outputs": [],
   "source": [
    "import pandas as pd\n",
    "import matplotlib.pyplot as plt\n",
    "import numpy as np\n",
    "import seaborn as sns\n",
    "from sklearn.pipeline import Pipeline\n",
    "from sklearn.preprocessing import StandardScaler, PolynomialFeatures\n",
    "from sklearn.linear_model import LinearRegression\n"
   ]
  },
  {
   "cell_type": "markdown",
   "id": "4583dc8e-7cd5-4684-b446-eadcd7e81842",
   "metadata": {},
   "source": [
    "<h2>Importing Data Sets</h2>"
   ]
  },
  {
   "cell_type": "code",
   "execution_count": 2,
   "id": "4d6eb31e-e223-4652-bc1e-d627ed1885ea",
   "metadata": {},
   "outputs": [],
   "source": [
    "file_name = 'kc_house_data.csv'"
   ]
  },
  {
   "cell_type": "code",
   "execution_count": 3,
   "id": "988d441e-ea6a-4e7c-8d5d-fe30bb9c3ddc",
   "metadata": {},
   "outputs": [],
   "source": [
    "df = pd.read_csv(file_name)"
   ]
  },
  {
   "cell_type": "code",
   "execution_count": 4,
   "id": "a1df4b12-143a-4dc0-a8e0-18a8f8ff0a7f",
   "metadata": {},
   "outputs": [
    {
     "data": {
      "text/html": [
       "<div>\n",
       "<style scoped>\n",
       "    .dataframe tbody tr th:only-of-type {\n",
       "        vertical-align: middle;\n",
       "    }\n",
       "\n",
       "    .dataframe tbody tr th {\n",
       "        vertical-align: top;\n",
       "    }\n",
       "\n",
       "    .dataframe thead th {\n",
       "        text-align: right;\n",
       "    }\n",
       "</style>\n",
       "<table border=\"1\" class=\"dataframe\">\n",
       "  <thead>\n",
       "    <tr style=\"text-align: right;\">\n",
       "      <th></th>\n",
       "      <th>id</th>\n",
       "      <th>date</th>\n",
       "      <th>price</th>\n",
       "      <th>bedrooms</th>\n",
       "      <th>bathrooms</th>\n",
       "      <th>sqft_living</th>\n",
       "      <th>sqft_lot</th>\n",
       "      <th>floors</th>\n",
       "      <th>waterfront</th>\n",
       "      <th>view</th>\n",
       "      <th>...</th>\n",
       "      <th>grade</th>\n",
       "      <th>sqft_above</th>\n",
       "      <th>sqft_basement</th>\n",
       "      <th>yr_built</th>\n",
       "      <th>yr_renovated</th>\n",
       "      <th>zipcode</th>\n",
       "      <th>lat</th>\n",
       "      <th>long</th>\n",
       "      <th>sqft_living15</th>\n",
       "      <th>sqft_lot15</th>\n",
       "    </tr>\n",
       "  </thead>\n",
       "  <tbody>\n",
       "    <tr>\n",
       "      <th>0</th>\n",
       "      <td>7129300520</td>\n",
       "      <td>20141013T000000</td>\n",
       "      <td>221900.0</td>\n",
       "      <td>3</td>\n",
       "      <td>1.00</td>\n",
       "      <td>1180</td>\n",
       "      <td>5650</td>\n",
       "      <td>1.0</td>\n",
       "      <td>0</td>\n",
       "      <td>0</td>\n",
       "      <td>...</td>\n",
       "      <td>7</td>\n",
       "      <td>1180</td>\n",
       "      <td>0</td>\n",
       "      <td>1955</td>\n",
       "      <td>0</td>\n",
       "      <td>98178</td>\n",
       "      <td>47.5112</td>\n",
       "      <td>-122.257</td>\n",
       "      <td>1340</td>\n",
       "      <td>5650</td>\n",
       "    </tr>\n",
       "    <tr>\n",
       "      <th>1</th>\n",
       "      <td>6414100192</td>\n",
       "      <td>20141209T000000</td>\n",
       "      <td>538000.0</td>\n",
       "      <td>3</td>\n",
       "      <td>2.25</td>\n",
       "      <td>2570</td>\n",
       "      <td>7242</td>\n",
       "      <td>2.0</td>\n",
       "      <td>0</td>\n",
       "      <td>0</td>\n",
       "      <td>...</td>\n",
       "      <td>7</td>\n",
       "      <td>2170</td>\n",
       "      <td>400</td>\n",
       "      <td>1951</td>\n",
       "      <td>1991</td>\n",
       "      <td>98125</td>\n",
       "      <td>47.7210</td>\n",
       "      <td>-122.319</td>\n",
       "      <td>1690</td>\n",
       "      <td>7639</td>\n",
       "    </tr>\n",
       "    <tr>\n",
       "      <th>2</th>\n",
       "      <td>5631500400</td>\n",
       "      <td>20150225T000000</td>\n",
       "      <td>180000.0</td>\n",
       "      <td>2</td>\n",
       "      <td>1.00</td>\n",
       "      <td>770</td>\n",
       "      <td>10000</td>\n",
       "      <td>1.0</td>\n",
       "      <td>0</td>\n",
       "      <td>0</td>\n",
       "      <td>...</td>\n",
       "      <td>6</td>\n",
       "      <td>770</td>\n",
       "      <td>0</td>\n",
       "      <td>1933</td>\n",
       "      <td>0</td>\n",
       "      <td>98028</td>\n",
       "      <td>47.7379</td>\n",
       "      <td>-122.233</td>\n",
       "      <td>2720</td>\n",
       "      <td>8062</td>\n",
       "    </tr>\n",
       "    <tr>\n",
       "      <th>3</th>\n",
       "      <td>2487200875</td>\n",
       "      <td>20141209T000000</td>\n",
       "      <td>604000.0</td>\n",
       "      <td>4</td>\n",
       "      <td>3.00</td>\n",
       "      <td>1960</td>\n",
       "      <td>5000</td>\n",
       "      <td>1.0</td>\n",
       "      <td>0</td>\n",
       "      <td>0</td>\n",
       "      <td>...</td>\n",
       "      <td>7</td>\n",
       "      <td>1050</td>\n",
       "      <td>910</td>\n",
       "      <td>1965</td>\n",
       "      <td>0</td>\n",
       "      <td>98136</td>\n",
       "      <td>47.5208</td>\n",
       "      <td>-122.393</td>\n",
       "      <td>1360</td>\n",
       "      <td>5000</td>\n",
       "    </tr>\n",
       "    <tr>\n",
       "      <th>4</th>\n",
       "      <td>1954400510</td>\n",
       "      <td>20150218T000000</td>\n",
       "      <td>510000.0</td>\n",
       "      <td>3</td>\n",
       "      <td>2.00</td>\n",
       "      <td>1680</td>\n",
       "      <td>8080</td>\n",
       "      <td>1.0</td>\n",
       "      <td>0</td>\n",
       "      <td>0</td>\n",
       "      <td>...</td>\n",
       "      <td>8</td>\n",
       "      <td>1680</td>\n",
       "      <td>0</td>\n",
       "      <td>1987</td>\n",
       "      <td>0</td>\n",
       "      <td>98074</td>\n",
       "      <td>47.6168</td>\n",
       "      <td>-122.045</td>\n",
       "      <td>1800</td>\n",
       "      <td>7503</td>\n",
       "    </tr>\n",
       "  </tbody>\n",
       "</table>\n",
       "<p>5 rows × 21 columns</p>\n",
       "</div>"
      ],
      "text/plain": [
       "           id             date     price  bedrooms  bathrooms  sqft_living  \\\n",
       "0  7129300520  20141013T000000  221900.0         3       1.00         1180   \n",
       "1  6414100192  20141209T000000  538000.0         3       2.25         2570   \n",
       "2  5631500400  20150225T000000  180000.0         2       1.00          770   \n",
       "3  2487200875  20141209T000000  604000.0         4       3.00         1960   \n",
       "4  1954400510  20150218T000000  510000.0         3       2.00         1680   \n",
       "\n",
       "   sqft_lot  floors  waterfront  view  ...  grade  sqft_above  sqft_basement  \\\n",
       "0      5650     1.0           0     0  ...      7        1180              0   \n",
       "1      7242     2.0           0     0  ...      7        2170            400   \n",
       "2     10000     1.0           0     0  ...      6         770              0   \n",
       "3      5000     1.0           0     0  ...      7        1050            910   \n",
       "4      8080     1.0           0     0  ...      8        1680              0   \n",
       "\n",
       "   yr_built  yr_renovated  zipcode      lat     long  sqft_living15  \\\n",
       "0      1955             0    98178  47.5112 -122.257           1340   \n",
       "1      1951          1991    98125  47.7210 -122.319           1690   \n",
       "2      1933             0    98028  47.7379 -122.233           2720   \n",
       "3      1965             0    98136  47.5208 -122.393           1360   \n",
       "4      1987             0    98074  47.6168 -122.045           1800   \n",
       "\n",
       "   sqft_lot15  \n",
       "0        5650  \n",
       "1        7639  \n",
       "2        8062  \n",
       "3        5000  \n",
       "4        7503  \n",
       "\n",
       "[5 rows x 21 columns]"
      ]
     },
     "execution_count": 4,
     "metadata": {},
     "output_type": "execute_result"
    }
   ],
   "source": [
    "df.head()"
   ]
  },
  {
   "cell_type": "markdown",
   "id": "d7bc0950-f60a-4b53-b823-7fc2b434d7d8",
   "metadata": {
    "tags": []
   },
   "source": [
    "\n",
    "Disply the data types of each columns"
   ]
  },
  {
   "cell_type": "code",
   "execution_count": 5,
   "id": "a3d377f7-8fec-4111-8005-c643b3309757",
   "metadata": {},
   "outputs": [
    {
     "data": {
      "text/plain": [
       "id                 int64\n",
       "date              object\n",
       "price            float64\n",
       "bedrooms           int64\n",
       "bathrooms        float64\n",
       "sqft_living        int64\n",
       "sqft_lot           int64\n",
       "floors           float64\n",
       "waterfront         int64\n",
       "view               int64\n",
       "condition          int64\n",
       "grade              int64\n",
       "sqft_above         int64\n",
       "sqft_basement      int64\n",
       "yr_built           int64\n",
       "yr_renovated       int64\n",
       "zipcode            int64\n",
       "lat              float64\n",
       "long             float64\n",
       "sqft_living15      int64\n",
       "sqft_lot15         int64\n",
       "dtype: object"
      ]
     },
     "execution_count": 5,
     "metadata": {},
     "output_type": "execute_result"
    }
   ],
   "source": [
    "df.dtypes"
   ]
  },
  {
   "cell_type": "code",
   "execution_count": 6,
   "id": "5cc8c15e-32a7-4a67-ab8d-8800e5266733",
   "metadata": {},
   "outputs": [
    {
     "data": {
      "text/html": [
       "<div>\n",
       "<style scoped>\n",
       "    .dataframe tbody tr th:only-of-type {\n",
       "        vertical-align: middle;\n",
       "    }\n",
       "\n",
       "    .dataframe tbody tr th {\n",
       "        vertical-align: top;\n",
       "    }\n",
       "\n",
       "    .dataframe thead th {\n",
       "        text-align: right;\n",
       "    }\n",
       "</style>\n",
       "<table border=\"1\" class=\"dataframe\">\n",
       "  <thead>\n",
       "    <tr style=\"text-align: right;\">\n",
       "      <th></th>\n",
       "      <th>id</th>\n",
       "      <th>price</th>\n",
       "      <th>bedrooms</th>\n",
       "      <th>bathrooms</th>\n",
       "      <th>sqft_living</th>\n",
       "      <th>sqft_lot</th>\n",
       "      <th>floors</th>\n",
       "      <th>waterfront</th>\n",
       "      <th>view</th>\n",
       "      <th>condition</th>\n",
       "      <th>grade</th>\n",
       "      <th>sqft_above</th>\n",
       "      <th>sqft_basement</th>\n",
       "      <th>yr_built</th>\n",
       "      <th>yr_renovated</th>\n",
       "      <th>zipcode</th>\n",
       "      <th>lat</th>\n",
       "      <th>long</th>\n",
       "      <th>sqft_living15</th>\n",
       "      <th>sqft_lot15</th>\n",
       "    </tr>\n",
       "  </thead>\n",
       "  <tbody>\n",
       "    <tr>\n",
       "      <th>count</th>\n",
       "      <td>2.161300e+04</td>\n",
       "      <td>2.161300e+04</td>\n",
       "      <td>21613.000000</td>\n",
       "      <td>21613.000000</td>\n",
       "      <td>21613.000000</td>\n",
       "      <td>2.161300e+04</td>\n",
       "      <td>21613.000000</td>\n",
       "      <td>21613.000000</td>\n",
       "      <td>21613.000000</td>\n",
       "      <td>21613.000000</td>\n",
       "      <td>21613.000000</td>\n",
       "      <td>21613.000000</td>\n",
       "      <td>21613.000000</td>\n",
       "      <td>21613.000000</td>\n",
       "      <td>21613.000000</td>\n",
       "      <td>21613.000000</td>\n",
       "      <td>21613.000000</td>\n",
       "      <td>21613.000000</td>\n",
       "      <td>21613.000000</td>\n",
       "      <td>21613.000000</td>\n",
       "    </tr>\n",
       "    <tr>\n",
       "      <th>mean</th>\n",
       "      <td>4.580302e+09</td>\n",
       "      <td>5.400881e+05</td>\n",
       "      <td>3.370842</td>\n",
       "      <td>2.114757</td>\n",
       "      <td>2079.899736</td>\n",
       "      <td>1.510697e+04</td>\n",
       "      <td>1.494309</td>\n",
       "      <td>0.007542</td>\n",
       "      <td>0.234303</td>\n",
       "      <td>3.409430</td>\n",
       "      <td>7.656873</td>\n",
       "      <td>1788.390691</td>\n",
       "      <td>291.509045</td>\n",
       "      <td>1971.005136</td>\n",
       "      <td>84.402258</td>\n",
       "      <td>98077.939805</td>\n",
       "      <td>47.560053</td>\n",
       "      <td>-122.213896</td>\n",
       "      <td>1986.552492</td>\n",
       "      <td>12768.455652</td>\n",
       "    </tr>\n",
       "    <tr>\n",
       "      <th>std</th>\n",
       "      <td>2.876566e+09</td>\n",
       "      <td>3.671272e+05</td>\n",
       "      <td>0.930062</td>\n",
       "      <td>0.770163</td>\n",
       "      <td>918.440897</td>\n",
       "      <td>4.142051e+04</td>\n",
       "      <td>0.539989</td>\n",
       "      <td>0.086517</td>\n",
       "      <td>0.766318</td>\n",
       "      <td>0.650743</td>\n",
       "      <td>1.175459</td>\n",
       "      <td>828.090978</td>\n",
       "      <td>442.575043</td>\n",
       "      <td>29.373411</td>\n",
       "      <td>401.679240</td>\n",
       "      <td>53.505026</td>\n",
       "      <td>0.138564</td>\n",
       "      <td>0.140828</td>\n",
       "      <td>685.391304</td>\n",
       "      <td>27304.179631</td>\n",
       "    </tr>\n",
       "    <tr>\n",
       "      <th>min</th>\n",
       "      <td>1.000102e+06</td>\n",
       "      <td>7.500000e+04</td>\n",
       "      <td>0.000000</td>\n",
       "      <td>0.000000</td>\n",
       "      <td>290.000000</td>\n",
       "      <td>5.200000e+02</td>\n",
       "      <td>1.000000</td>\n",
       "      <td>0.000000</td>\n",
       "      <td>0.000000</td>\n",
       "      <td>1.000000</td>\n",
       "      <td>1.000000</td>\n",
       "      <td>290.000000</td>\n",
       "      <td>0.000000</td>\n",
       "      <td>1900.000000</td>\n",
       "      <td>0.000000</td>\n",
       "      <td>98001.000000</td>\n",
       "      <td>47.155900</td>\n",
       "      <td>-122.519000</td>\n",
       "      <td>399.000000</td>\n",
       "      <td>651.000000</td>\n",
       "    </tr>\n",
       "    <tr>\n",
       "      <th>25%</th>\n",
       "      <td>2.123049e+09</td>\n",
       "      <td>3.219500e+05</td>\n",
       "      <td>3.000000</td>\n",
       "      <td>1.750000</td>\n",
       "      <td>1427.000000</td>\n",
       "      <td>5.040000e+03</td>\n",
       "      <td>1.000000</td>\n",
       "      <td>0.000000</td>\n",
       "      <td>0.000000</td>\n",
       "      <td>3.000000</td>\n",
       "      <td>7.000000</td>\n",
       "      <td>1190.000000</td>\n",
       "      <td>0.000000</td>\n",
       "      <td>1951.000000</td>\n",
       "      <td>0.000000</td>\n",
       "      <td>98033.000000</td>\n",
       "      <td>47.471000</td>\n",
       "      <td>-122.328000</td>\n",
       "      <td>1490.000000</td>\n",
       "      <td>5100.000000</td>\n",
       "    </tr>\n",
       "    <tr>\n",
       "      <th>50%</th>\n",
       "      <td>3.904930e+09</td>\n",
       "      <td>4.500000e+05</td>\n",
       "      <td>3.000000</td>\n",
       "      <td>2.250000</td>\n",
       "      <td>1910.000000</td>\n",
       "      <td>7.618000e+03</td>\n",
       "      <td>1.500000</td>\n",
       "      <td>0.000000</td>\n",
       "      <td>0.000000</td>\n",
       "      <td>3.000000</td>\n",
       "      <td>7.000000</td>\n",
       "      <td>1560.000000</td>\n",
       "      <td>0.000000</td>\n",
       "      <td>1975.000000</td>\n",
       "      <td>0.000000</td>\n",
       "      <td>98065.000000</td>\n",
       "      <td>47.571800</td>\n",
       "      <td>-122.230000</td>\n",
       "      <td>1840.000000</td>\n",
       "      <td>7620.000000</td>\n",
       "    </tr>\n",
       "    <tr>\n",
       "      <th>75%</th>\n",
       "      <td>7.308900e+09</td>\n",
       "      <td>6.450000e+05</td>\n",
       "      <td>4.000000</td>\n",
       "      <td>2.500000</td>\n",
       "      <td>2550.000000</td>\n",
       "      <td>1.068800e+04</td>\n",
       "      <td>2.000000</td>\n",
       "      <td>0.000000</td>\n",
       "      <td>0.000000</td>\n",
       "      <td>4.000000</td>\n",
       "      <td>8.000000</td>\n",
       "      <td>2210.000000</td>\n",
       "      <td>560.000000</td>\n",
       "      <td>1997.000000</td>\n",
       "      <td>0.000000</td>\n",
       "      <td>98118.000000</td>\n",
       "      <td>47.678000</td>\n",
       "      <td>-122.125000</td>\n",
       "      <td>2360.000000</td>\n",
       "      <td>10083.000000</td>\n",
       "    </tr>\n",
       "    <tr>\n",
       "      <th>max</th>\n",
       "      <td>9.900000e+09</td>\n",
       "      <td>7.700000e+06</td>\n",
       "      <td>33.000000</td>\n",
       "      <td>8.000000</td>\n",
       "      <td>13540.000000</td>\n",
       "      <td>1.651359e+06</td>\n",
       "      <td>3.500000</td>\n",
       "      <td>1.000000</td>\n",
       "      <td>4.000000</td>\n",
       "      <td>5.000000</td>\n",
       "      <td>13.000000</td>\n",
       "      <td>9410.000000</td>\n",
       "      <td>4820.000000</td>\n",
       "      <td>2015.000000</td>\n",
       "      <td>2015.000000</td>\n",
       "      <td>98199.000000</td>\n",
       "      <td>47.777600</td>\n",
       "      <td>-121.315000</td>\n",
       "      <td>6210.000000</td>\n",
       "      <td>871200.000000</td>\n",
       "    </tr>\n",
       "  </tbody>\n",
       "</table>\n",
       "</div>"
      ],
      "text/plain": [
       "                 id         price      bedrooms     bathrooms   sqft_living  \\\n",
       "count  2.161300e+04  2.161300e+04  21613.000000  21613.000000  21613.000000   \n",
       "mean   4.580302e+09  5.400881e+05      3.370842      2.114757   2079.899736   \n",
       "std    2.876566e+09  3.671272e+05      0.930062      0.770163    918.440897   \n",
       "min    1.000102e+06  7.500000e+04      0.000000      0.000000    290.000000   \n",
       "25%    2.123049e+09  3.219500e+05      3.000000      1.750000   1427.000000   \n",
       "50%    3.904930e+09  4.500000e+05      3.000000      2.250000   1910.000000   \n",
       "75%    7.308900e+09  6.450000e+05      4.000000      2.500000   2550.000000   \n",
       "max    9.900000e+09  7.700000e+06     33.000000      8.000000  13540.000000   \n",
       "\n",
       "           sqft_lot        floors    waterfront          view     condition  \\\n",
       "count  2.161300e+04  21613.000000  21613.000000  21613.000000  21613.000000   \n",
       "mean   1.510697e+04      1.494309      0.007542      0.234303      3.409430   \n",
       "std    4.142051e+04      0.539989      0.086517      0.766318      0.650743   \n",
       "min    5.200000e+02      1.000000      0.000000      0.000000      1.000000   \n",
       "25%    5.040000e+03      1.000000      0.000000      0.000000      3.000000   \n",
       "50%    7.618000e+03      1.500000      0.000000      0.000000      3.000000   \n",
       "75%    1.068800e+04      2.000000      0.000000      0.000000      4.000000   \n",
       "max    1.651359e+06      3.500000      1.000000      4.000000      5.000000   \n",
       "\n",
       "              grade    sqft_above  sqft_basement      yr_built  yr_renovated  \\\n",
       "count  21613.000000  21613.000000   21613.000000  21613.000000  21613.000000   \n",
       "mean       7.656873   1788.390691     291.509045   1971.005136     84.402258   \n",
       "std        1.175459    828.090978     442.575043     29.373411    401.679240   \n",
       "min        1.000000    290.000000       0.000000   1900.000000      0.000000   \n",
       "25%        7.000000   1190.000000       0.000000   1951.000000      0.000000   \n",
       "50%        7.000000   1560.000000       0.000000   1975.000000      0.000000   \n",
       "75%        8.000000   2210.000000     560.000000   1997.000000      0.000000   \n",
       "max       13.000000   9410.000000    4820.000000   2015.000000   2015.000000   \n",
       "\n",
       "            zipcode           lat          long  sqft_living15     sqft_lot15  \n",
       "count  21613.000000  21613.000000  21613.000000   21613.000000   21613.000000  \n",
       "mean   98077.939805     47.560053   -122.213896    1986.552492   12768.455652  \n",
       "std       53.505026      0.138564      0.140828     685.391304   27304.179631  \n",
       "min    98001.000000     47.155900   -122.519000     399.000000     651.000000  \n",
       "25%    98033.000000     47.471000   -122.328000    1490.000000    5100.000000  \n",
       "50%    98065.000000     47.571800   -122.230000    1840.000000    7620.000000  \n",
       "75%    98118.000000     47.678000   -122.125000    2360.000000   10083.000000  \n",
       "max    98199.000000     47.777600   -121.315000    6210.000000  871200.000000  "
      ]
     },
     "execution_count": 6,
     "metadata": {},
     "output_type": "execute_result"
    }
   ],
   "source": [
    "df.describe()"
   ]
  },
  {
   "cell_type": "markdown",
   "id": "f84900d7-6c5c-46f9-ac57-2e153d1bf0a9",
   "metadata": {},
   "source": [
    "## Data Wrangling"
   ]
  },
  {
   "cell_type": "code",
   "execution_count": 7,
   "id": "8b242e93-5537-47b9-bb6f-8ec252e45005",
   "metadata": {},
   "outputs": [
    {
     "data": {
      "text/html": [
       "<div>\n",
       "<style scoped>\n",
       "    .dataframe tbody tr th:only-of-type {\n",
       "        vertical-align: middle;\n",
       "    }\n",
       "\n",
       "    .dataframe tbody tr th {\n",
       "        vertical-align: top;\n",
       "    }\n",
       "\n",
       "    .dataframe thead th {\n",
       "        text-align: right;\n",
       "    }\n",
       "</style>\n",
       "<table border=\"1\" class=\"dataframe\">\n",
       "  <thead>\n",
       "    <tr style=\"text-align: right;\">\n",
       "      <th></th>\n",
       "      <th>date</th>\n",
       "      <th>price</th>\n",
       "      <th>bedrooms</th>\n",
       "      <th>bathrooms</th>\n",
       "      <th>sqft_living</th>\n",
       "      <th>sqft_lot</th>\n",
       "      <th>floors</th>\n",
       "      <th>waterfront</th>\n",
       "      <th>view</th>\n",
       "      <th>condition</th>\n",
       "      <th>grade</th>\n",
       "      <th>sqft_above</th>\n",
       "      <th>sqft_basement</th>\n",
       "      <th>yr_built</th>\n",
       "      <th>yr_renovated</th>\n",
       "      <th>zipcode</th>\n",
       "      <th>lat</th>\n",
       "      <th>long</th>\n",
       "      <th>sqft_living15</th>\n",
       "      <th>sqft_lot15</th>\n",
       "    </tr>\n",
       "  </thead>\n",
       "  <tbody>\n",
       "    <tr>\n",
       "      <th>0</th>\n",
       "      <td>20141013T000000</td>\n",
       "      <td>221900.0</td>\n",
       "      <td>3</td>\n",
       "      <td>1.00</td>\n",
       "      <td>1180</td>\n",
       "      <td>5650</td>\n",
       "      <td>1.0</td>\n",
       "      <td>0</td>\n",
       "      <td>0</td>\n",
       "      <td>3</td>\n",
       "      <td>7</td>\n",
       "      <td>1180</td>\n",
       "      <td>0</td>\n",
       "      <td>1955</td>\n",
       "      <td>0</td>\n",
       "      <td>98178</td>\n",
       "      <td>47.5112</td>\n",
       "      <td>-122.257</td>\n",
       "      <td>1340</td>\n",
       "      <td>5650</td>\n",
       "    </tr>\n",
       "    <tr>\n",
       "      <th>1</th>\n",
       "      <td>20141209T000000</td>\n",
       "      <td>538000.0</td>\n",
       "      <td>3</td>\n",
       "      <td>2.25</td>\n",
       "      <td>2570</td>\n",
       "      <td>7242</td>\n",
       "      <td>2.0</td>\n",
       "      <td>0</td>\n",
       "      <td>0</td>\n",
       "      <td>3</td>\n",
       "      <td>7</td>\n",
       "      <td>2170</td>\n",
       "      <td>400</td>\n",
       "      <td>1951</td>\n",
       "      <td>1991</td>\n",
       "      <td>98125</td>\n",
       "      <td>47.7210</td>\n",
       "      <td>-122.319</td>\n",
       "      <td>1690</td>\n",
       "      <td>7639</td>\n",
       "    </tr>\n",
       "    <tr>\n",
       "      <th>2</th>\n",
       "      <td>20150225T000000</td>\n",
       "      <td>180000.0</td>\n",
       "      <td>2</td>\n",
       "      <td>1.00</td>\n",
       "      <td>770</td>\n",
       "      <td>10000</td>\n",
       "      <td>1.0</td>\n",
       "      <td>0</td>\n",
       "      <td>0</td>\n",
       "      <td>3</td>\n",
       "      <td>6</td>\n",
       "      <td>770</td>\n",
       "      <td>0</td>\n",
       "      <td>1933</td>\n",
       "      <td>0</td>\n",
       "      <td>98028</td>\n",
       "      <td>47.7379</td>\n",
       "      <td>-122.233</td>\n",
       "      <td>2720</td>\n",
       "      <td>8062</td>\n",
       "    </tr>\n",
       "    <tr>\n",
       "      <th>3</th>\n",
       "      <td>20141209T000000</td>\n",
       "      <td>604000.0</td>\n",
       "      <td>4</td>\n",
       "      <td>3.00</td>\n",
       "      <td>1960</td>\n",
       "      <td>5000</td>\n",
       "      <td>1.0</td>\n",
       "      <td>0</td>\n",
       "      <td>0</td>\n",
       "      <td>5</td>\n",
       "      <td>7</td>\n",
       "      <td>1050</td>\n",
       "      <td>910</td>\n",
       "      <td>1965</td>\n",
       "      <td>0</td>\n",
       "      <td>98136</td>\n",
       "      <td>47.5208</td>\n",
       "      <td>-122.393</td>\n",
       "      <td>1360</td>\n",
       "      <td>5000</td>\n",
       "    </tr>\n",
       "    <tr>\n",
       "      <th>4</th>\n",
       "      <td>20150218T000000</td>\n",
       "      <td>510000.0</td>\n",
       "      <td>3</td>\n",
       "      <td>2.00</td>\n",
       "      <td>1680</td>\n",
       "      <td>8080</td>\n",
       "      <td>1.0</td>\n",
       "      <td>0</td>\n",
       "      <td>0</td>\n",
       "      <td>3</td>\n",
       "      <td>8</td>\n",
       "      <td>1680</td>\n",
       "      <td>0</td>\n",
       "      <td>1987</td>\n",
       "      <td>0</td>\n",
       "      <td>98074</td>\n",
       "      <td>47.6168</td>\n",
       "      <td>-122.045</td>\n",
       "      <td>1800</td>\n",
       "      <td>7503</td>\n",
       "    </tr>\n",
       "  </tbody>\n",
       "</table>\n",
       "</div>"
      ],
      "text/plain": [
       "              date     price  bedrooms  bathrooms  sqft_living  sqft_lot  \\\n",
       "0  20141013T000000  221900.0         3       1.00         1180      5650   \n",
       "1  20141209T000000  538000.0         3       2.25         2570      7242   \n",
       "2  20150225T000000  180000.0         2       1.00          770     10000   \n",
       "3  20141209T000000  604000.0         4       3.00         1960      5000   \n",
       "4  20150218T000000  510000.0         3       2.00         1680      8080   \n",
       "\n",
       "   floors  waterfront  view  condition  grade  sqft_above  sqft_basement  \\\n",
       "0     1.0           0     0          3      7        1180              0   \n",
       "1     2.0           0     0          3      7        2170            400   \n",
       "2     1.0           0     0          3      6         770              0   \n",
       "3     1.0           0     0          5      7        1050            910   \n",
       "4     1.0           0     0          3      8        1680              0   \n",
       "\n",
       "   yr_built  yr_renovated  zipcode      lat     long  sqft_living15  \\\n",
       "0      1955             0    98178  47.5112 -122.257           1340   \n",
       "1      1951          1991    98125  47.7210 -122.319           1690   \n",
       "2      1933             0    98028  47.7379 -122.233           2720   \n",
       "3      1965             0    98136  47.5208 -122.393           1360   \n",
       "4      1987             0    98074  47.6168 -122.045           1800   \n",
       "\n",
       "   sqft_lot15  \n",
       "0        5650  \n",
       "1        7639  \n",
       "2        8062  \n",
       "3        5000  \n",
       "4        7503  "
      ]
     },
     "execution_count": 7,
     "metadata": {},
     "output_type": "execute_result"
    }
   ],
   "source": [
    "# Drop the columns \"id\"\n",
    "df.drop(['id'],axis=1,inplace = True)\n",
    "df.head()"
   ]
  },
  {
   "cell_type": "code",
   "execution_count": 8,
   "id": "5d02de7e-52fa-4253-a1b9-6d636fd6327d",
   "metadata": {},
   "outputs": [
    {
     "data": {
      "text/plain": [
       "Index(['date', 'price', 'bedrooms', 'bathrooms', 'sqft_living', 'sqft_lot',\n",
       "       'floors', 'waterfront', 'view', 'condition', 'grade', 'sqft_above',\n",
       "       'sqft_basement', 'yr_built', 'yr_renovated', 'zipcode', 'lat', 'long',\n",
       "       'sqft_living15', 'sqft_lot15'],\n",
       "      dtype='object')"
      ]
     },
     "execution_count": 8,
     "metadata": {},
     "output_type": "execute_result"
    }
   ],
   "source": [
    "df.columns"
   ]
  },
  {
   "cell_type": "code",
   "execution_count": 9,
   "id": "7c6c6867-d603-4d7a-b2de-1848cca633a0",
   "metadata": {},
   "outputs": [
    {
     "data": {
      "text/html": [
       "<div>\n",
       "<style scoped>\n",
       "    .dataframe tbody tr th:only-of-type {\n",
       "        vertical-align: middle;\n",
       "    }\n",
       "\n",
       "    .dataframe tbody tr th {\n",
       "        vertical-align: top;\n",
       "    }\n",
       "\n",
       "    .dataframe thead th {\n",
       "        text-align: right;\n",
       "    }\n",
       "</style>\n",
       "<table border=\"1\" class=\"dataframe\">\n",
       "  <thead>\n",
       "    <tr style=\"text-align: right;\">\n",
       "      <th></th>\n",
       "      <th>date</th>\n",
       "      <th>price</th>\n",
       "      <th>bedrooms</th>\n",
       "      <th>bathrooms</th>\n",
       "      <th>sqft_living</th>\n",
       "      <th>sqft_lot</th>\n",
       "      <th>floors</th>\n",
       "      <th>waterfront</th>\n",
       "      <th>view</th>\n",
       "      <th>condition</th>\n",
       "      <th>grade</th>\n",
       "      <th>sqft_above</th>\n",
       "      <th>sqft_basement</th>\n",
       "      <th>yr_built</th>\n",
       "      <th>yr_renovated</th>\n",
       "      <th>zipcode</th>\n",
       "      <th>lat</th>\n",
       "      <th>long</th>\n",
       "      <th>sqft_living15</th>\n",
       "      <th>sqft_lot15</th>\n",
       "    </tr>\n",
       "  </thead>\n",
       "  <tbody>\n",
       "    <tr>\n",
       "      <th>0</th>\n",
       "      <td>False</td>\n",
       "      <td>False</td>\n",
       "      <td>False</td>\n",
       "      <td>False</td>\n",
       "      <td>False</td>\n",
       "      <td>False</td>\n",
       "      <td>False</td>\n",
       "      <td>False</td>\n",
       "      <td>False</td>\n",
       "      <td>False</td>\n",
       "      <td>False</td>\n",
       "      <td>False</td>\n",
       "      <td>False</td>\n",
       "      <td>False</td>\n",
       "      <td>False</td>\n",
       "      <td>False</td>\n",
       "      <td>False</td>\n",
       "      <td>False</td>\n",
       "      <td>False</td>\n",
       "      <td>False</td>\n",
       "    </tr>\n",
       "    <tr>\n",
       "      <th>1</th>\n",
       "      <td>False</td>\n",
       "      <td>False</td>\n",
       "      <td>False</td>\n",
       "      <td>False</td>\n",
       "      <td>False</td>\n",
       "      <td>False</td>\n",
       "      <td>False</td>\n",
       "      <td>False</td>\n",
       "      <td>False</td>\n",
       "      <td>False</td>\n",
       "      <td>False</td>\n",
       "      <td>False</td>\n",
       "      <td>False</td>\n",
       "      <td>False</td>\n",
       "      <td>False</td>\n",
       "      <td>False</td>\n",
       "      <td>False</td>\n",
       "      <td>False</td>\n",
       "      <td>False</td>\n",
       "      <td>False</td>\n",
       "    </tr>\n",
       "    <tr>\n",
       "      <th>2</th>\n",
       "      <td>False</td>\n",
       "      <td>False</td>\n",
       "      <td>False</td>\n",
       "      <td>False</td>\n",
       "      <td>False</td>\n",
       "      <td>False</td>\n",
       "      <td>False</td>\n",
       "      <td>False</td>\n",
       "      <td>False</td>\n",
       "      <td>False</td>\n",
       "      <td>False</td>\n",
       "      <td>False</td>\n",
       "      <td>False</td>\n",
       "      <td>False</td>\n",
       "      <td>False</td>\n",
       "      <td>False</td>\n",
       "      <td>False</td>\n",
       "      <td>False</td>\n",
       "      <td>False</td>\n",
       "      <td>False</td>\n",
       "    </tr>\n",
       "    <tr>\n",
       "      <th>3</th>\n",
       "      <td>False</td>\n",
       "      <td>False</td>\n",
       "      <td>False</td>\n",
       "      <td>False</td>\n",
       "      <td>False</td>\n",
       "      <td>False</td>\n",
       "      <td>False</td>\n",
       "      <td>False</td>\n",
       "      <td>False</td>\n",
       "      <td>False</td>\n",
       "      <td>False</td>\n",
       "      <td>False</td>\n",
       "      <td>False</td>\n",
       "      <td>False</td>\n",
       "      <td>False</td>\n",
       "      <td>False</td>\n",
       "      <td>False</td>\n",
       "      <td>False</td>\n",
       "      <td>False</td>\n",
       "      <td>False</td>\n",
       "    </tr>\n",
       "    <tr>\n",
       "      <th>4</th>\n",
       "      <td>False</td>\n",
       "      <td>False</td>\n",
       "      <td>False</td>\n",
       "      <td>False</td>\n",
       "      <td>False</td>\n",
       "      <td>False</td>\n",
       "      <td>False</td>\n",
       "      <td>False</td>\n",
       "      <td>False</td>\n",
       "      <td>False</td>\n",
       "      <td>False</td>\n",
       "      <td>False</td>\n",
       "      <td>False</td>\n",
       "      <td>False</td>\n",
       "      <td>False</td>\n",
       "      <td>False</td>\n",
       "      <td>False</td>\n",
       "      <td>False</td>\n",
       "      <td>False</td>\n",
       "      <td>False</td>\n",
       "    </tr>\n",
       "  </tbody>\n",
       "</table>\n",
       "</div>"
      ],
      "text/plain": [
       "    date  price  bedrooms  bathrooms  sqft_living  sqft_lot  floors  \\\n",
       "0  False  False     False      False        False     False   False   \n",
       "1  False  False     False      False        False     False   False   \n",
       "2  False  False     False      False        False     False   False   \n",
       "3  False  False     False      False        False     False   False   \n",
       "4  False  False     False      False        False     False   False   \n",
       "\n",
       "   waterfront   view  condition  grade  sqft_above  sqft_basement  yr_built  \\\n",
       "0       False  False      False  False       False          False     False   \n",
       "1       False  False      False  False       False          False     False   \n",
       "2       False  False      False  False       False          False     False   \n",
       "3       False  False      False  False       False          False     False   \n",
       "4       False  False      False  False       False          False     False   \n",
       "\n",
       "   yr_renovated  zipcode    lat   long  sqft_living15  sqft_lot15  \n",
       "0         False    False  False  False          False       False  \n",
       "1         False    False  False  False          False       False  \n",
       "2         False    False  False  False          False       False  \n",
       "3         False    False  False  False          False       False  \n",
       "4         False    False  False  False          False       False  "
      ]
     },
     "execution_count": 9,
     "metadata": {},
     "output_type": "execute_result"
    }
   ],
   "source": [
    "df_isnull = df.isnull()\n",
    "df_isnull.head()"
   ]
  },
  {
   "cell_type": "code",
   "execution_count": 10,
   "id": "b121ad56-4495-4f1b-8156-80b3dfc89fd2",
   "metadata": {},
   "outputs": [
    {
     "name": "stdout",
     "output_type": "stream",
     "text": [
      "date\n",
      "False    21613\n",
      "Name: date, dtype: int64\n",
      "\n",
      "price\n",
      "False    21613\n",
      "Name: price, dtype: int64\n",
      "\n",
      "bedrooms\n",
      "False    21613\n",
      "Name: bedrooms, dtype: int64\n",
      "\n",
      "bathrooms\n",
      "False    21613\n",
      "Name: bathrooms, dtype: int64\n",
      "\n",
      "sqft_living\n",
      "False    21613\n",
      "Name: sqft_living, dtype: int64\n",
      "\n",
      "sqft_lot\n",
      "False    21613\n",
      "Name: sqft_lot, dtype: int64\n",
      "\n",
      "floors\n",
      "False    21613\n",
      "Name: floors, dtype: int64\n",
      "\n",
      "waterfront\n",
      "False    21613\n",
      "Name: waterfront, dtype: int64\n",
      "\n",
      "view\n",
      "False    21613\n",
      "Name: view, dtype: int64\n",
      "\n",
      "condition\n",
      "False    21613\n",
      "Name: condition, dtype: int64\n",
      "\n",
      "grade\n",
      "False    21613\n",
      "Name: grade, dtype: int64\n",
      "\n",
      "sqft_above\n",
      "False    21613\n",
      "Name: sqft_above, dtype: int64\n",
      "\n",
      "sqft_basement\n",
      "False    21613\n",
      "Name: sqft_basement, dtype: int64\n",
      "\n",
      "yr_built\n",
      "False    21613\n",
      "Name: yr_built, dtype: int64\n",
      "\n",
      "yr_renovated\n",
      "False    21613\n",
      "Name: yr_renovated, dtype: int64\n",
      "\n",
      "zipcode\n",
      "False    21613\n",
      "Name: zipcode, dtype: int64\n",
      "\n",
      "lat\n",
      "False    21613\n",
      "Name: lat, dtype: int64\n",
      "\n",
      "long\n",
      "False    21613\n",
      "Name: long, dtype: int64\n",
      "\n",
      "sqft_living15\n",
      "False    21613\n",
      "Name: sqft_living15, dtype: int64\n",
      "\n",
      "sqft_lot15\n",
      "False    21613\n",
      "Name: sqft_lot15, dtype: int64\n",
      "\n"
     ]
    }
   ],
   "source": [
    "for column in df_isnull.columns.values.tolist():\n",
    "    print(column)\n",
    "    print(df_isnull[column].value_counts())\n",
    "    print(\"\")"
   ]
  },
  {
   "cell_type": "markdown",
   "id": "de94632f-fbf9-4771-ad50-dcd74c9f82e6",
   "metadata": {},
   "source": [
    "From checking NaN value in each column. Datafram don't have any sigle NaN value. In the other hand if the dataframe contain the NaN value it can replace with the avarage of each column."
   ]
  },
  {
   "cell_type": "markdown",
   "id": "d06a12f8-5d5b-4996-b580-449e21ea690b",
   "metadata": {
    "tags": []
   },
   "source": [
    "## Exploratory Data Analysis"
   ]
  },
  {
   "cell_type": "code",
   "execution_count": 11,
   "id": "54f97b20-a877-456a-8235-0df3281ee63e",
   "metadata": {},
   "outputs": [],
   "source": [
    "x = df[['sqft_living']]\n",
    "y = df['price']"
   ]
  },
  {
   "cell_type": "code",
   "execution_count": 12,
   "id": "c85de4e7-1de2-4716-a662-8f763a51b238",
   "metadata": {},
   "outputs": [],
   "source": [
    "def DistributionPlot(RedFunction, BlurFunction, RedName, BlueName, Title):\n",
    "    width = 12\n",
    "    height = 10\n",
    "    plt.figure(figure = (width,height))\n",
    "    \n",
    "    ax1 = sns.distplor(Red)"
   ]
  },
  {
   "cell_type": "code",
   "execution_count": 13,
   "id": "8b66bc77-8b05-478f-8a94-fe3dcf667021",
   "metadata": {},
   "outputs": [
    {
     "data": {
      "text/plain": [
       "<AxesSubplot:xlabel='waterfront', ylabel='price'>"
      ]
     },
     "execution_count": 13,
     "metadata": {},
     "output_type": "execute_result"
    },
    {
     "data": {
      "image/png": "[encoded data removed]",
      "text/plain": [
       "<Figure size 640x480 with 1 Axes>"
      ]
     },
     "metadata": {},
     "output_type": "display_data"
    }
   ],
   "source": [
    "sns.boxplot(x='waterfront',y='price',data = df)"
   ]
  },
  {
   "cell_type": "markdown",
   "id": "d8fc36b2-0cdf-4329-89eb-e59c8f1e9ba6",
   "metadata": {},
   "source": [
    "Fron the box plot you can see if the house has waterfront, the price will higher than without waterfront."
   ]
  },
  {
   "cell_type": "code",
   "execution_count": 14,
   "id": "314018e5-77da-44d1-8b87-f5f43213e62f",
   "metadata": {},
   "outputs": [
    {
     "data": {
      "text/plain": [
       "<AxesSubplot:>"
      ]
     },
     "execution_count": 14,
     "metadata": {},
     "output_type": "execute_result"
    },
    {
     "data": {
      "image/png": "[encoded data removed]",
      "text/plain": [
       "<Figure size 640x480 with 2 Axes>"
      ]
     },
     "metadata": {},
     "output_type": "display_data"
    }
   ],
   "source": [
    "# correlation between 'price' and 'sqft_above' is postitive\n",
    "sns.heatmap(df.corr())"
   ]
  },
  {
   "cell_type": "code",
   "execution_count": 15,
   "id": "bd0ce7e4-82e0-483d-86d4-dbec64c5c24e",
   "metadata": {},
   "outputs": [
    {
     "data": {
      "text/plain": [
       "zipcode         -0.053203\n",
       "long             0.021626\n",
       "condition        0.036362\n",
       "yr_built         0.054012\n",
       "sqft_lot15       0.082447\n",
       "sqft_lot         0.089661\n",
       "yr_renovated     0.126434\n",
       "floors           0.256794\n",
       "waterfront       0.266369\n",
       "lat              0.307003\n",
       "bedrooms         0.308350\n",
       "sqft_basement    0.323816\n",
       "view             0.397293\n",
       "bathrooms        0.525138\n",
       "sqft_living15    0.585379\n",
       "sqft_above       0.605567\n",
       "grade            0.667434\n",
       "sqft_living      0.702035\n",
       "price            1.000000\n",
       "Name: price, dtype: float64"
      ]
     },
     "execution_count": 15,
     "metadata": {},
     "output_type": "execute_result"
    }
   ],
   "source": [
    "# Correlation each features with price\n",
    "df.corr()['price'].sort_values()"
   ]
  },
  {
   "cell_type": "markdown",
   "id": "523244cd-a4b0-4e35-a9d0-c451830da612",
   "metadata": {},
   "source": [
    "The correlation value that will impact significantly to the price have to nore then 0.5."
   ]
  },
  {
   "cell_type": "code",
   "execution_count": 16,
   "id": "785d28f2-7256-44fd-a9ed-e22c75da4c15",
   "metadata": {},
   "outputs": [],
   "source": [
    "from sklearn.metrics import r2_score"
   ]
  },
  {
   "cell_type": "code",
   "execution_count": 17,
   "id": "5996d236-9770-46dc-bd23-3e27fdcbcf45",
   "metadata": {},
   "outputs": [],
   "source": [
    "from sklearn.model_selection import train_test_split"
   ]
  },
  {
   "cell_type": "code",
   "execution_count": 18,
   "id": "6aa18c20-12cf-4175-b4dc-1376d1971b2f",
   "metadata": {},
   "outputs": [],
   "source": [
    "# Select only features that have corelection value > 0,5\n",
    "x_eff_features = df[['sqft_living','grade','sqft_above','sqft_living15','bathrooms']]"
   ]
  },
  {
   "cell_type": "code",
   "execution_count": 19,
   "id": "2d5f800b-5c22-4c47-931f-550653b1cfbc",
   "metadata": {},
   "outputs": [
    {
     "name": "stdout",
     "output_type": "stream",
     "text": [
      "shape of train value (17290, 5)\n",
      "shape of test value (4323, 5)\n"
     ]
    }
   ],
   "source": [
    "# split train and test data for enhance predictor\n",
    "x_train1, x_test1, y_train1, y_test1 = train_test_split(x_eff_features,y,test_size=0.2, random_state = 7)\n",
    "\n",
    "print('shape of train value',x_train1.shape)\n",
    "print('shape of test value',x_test1.shape)"
   ]
  },
  {
   "cell_type": "markdown",
   "id": "6c1f9590-6c3a-4c6c-a4b5-05e3e8129aa9",
   "metadata": {
    "tags": []
   },
   "source": [
    "## Simple Linear Regression"
   ]
  },
  {
   "cell_type": "code",
   "execution_count": 20,
   "id": "ac42e140-8e68-4de2-b895-f53d9b7ceb77",
   "metadata": {},
   "outputs": [
    {
     "data": {
      "image/png": "[encoded data removed]",
      "text/plain": [
       "<Figure size 1000x1000 with 1 Axes>"
      ]
     },
     "metadata": {},
     "output_type": "display_data"
    }
   ],
   "source": [
    "width = 10\n",
    "height = 10\n",
    "plt.figure(figsize=(width,height))\n",
    "sns.regplot(x=df['sqft_living'],y=df[['price']])\n",
    "plt.show()"
   ]
  },
  {
   "cell_type": "code",
   "execution_count": 21,
   "id": "1eadb93e-0bd4-497d-8507-82a72b90df76",
   "metadata": {},
   "outputs": [
    {
     "name": "stdout",
     "output_type": "stream",
     "text": [
      "R^2 value from Simple Linear Regression :  0.4832715584837527\n"
     ]
    }
   ],
   "source": [
    "lm_living_SLR = LinearRegression()\n",
    "lm_living_SLR.fit(x_train1[['sqft_living']],y_train1)\n",
    "RR_SLR = lm_living_SLR.score(x_test1[['sqft_living']],y_test1) #R^2 of the SLR\n",
    "print('R^2 value from Simple Linear Regression : ', RR_SLR)"
   ]
  },
  {
   "cell_type": "markdown",
   "id": "1a6c6074-d027-4d80-b606-fcf5d0e9d55a",
   "metadata": {},
   "source": [
    "Correlation value that be significate for be prrdictor should be Correlation Value > 0.5."
   ]
  },
  {
   "cell_type": "markdown",
   "id": "cffc4822-40f5-4c30-b3bf-3b1b50194311",
   "metadata": {
    "tags": []
   },
   "source": [
    "### Cross-Validation Score SLR"
   ]
  },
  {
   "cell_type": "code",
   "execution_count": 22,
   "id": "520cc7bd-2505-4b03-b1c9-cf1f3387555d",
   "metadata": {},
   "outputs": [],
   "source": [
    "from sklearn.model_selection import cross_val_score"
   ]
  },
  {
   "cell_type": "code",
   "execution_count": 23,
   "id": "e23fdd4b-dde0-48fa-8fff-eda425553cda",
   "metadata": {},
   "outputs": [
    {
     "data": {
      "text/plain": [
       "array([0.49301556, 0.49243323, 0.52569855, 0.51438058, 0.52262195,\n",
       "       0.44942611, 0.48182158, 0.45619412, 0.4920723 , 0.49593602])"
      ]
     },
     "execution_count": 23,
     "metadata": {},
     "output_type": "execute_result"
    }
   ],
   "source": [
    "Rcross_SLR = cross_val_score(lm_living_SLR, x_train1[['sqft_living']], y_train1, cv=10)\n",
    "Rcross_SLR"
   ]
  },
  {
   "cell_type": "code",
   "execution_count": 24,
   "id": "9f28ab23-bb64-436c-b588-efcaa20cd830",
   "metadata": {},
   "outputs": [
    {
     "name": "stdout",
     "output_type": "stream",
     "text": [
      "The mean of the folds are 0.4923599986485237 and the standard deviation is 0.024057856680925818\n"
     ]
    }
   ],
   "source": [
    "print(\"The mean of the folds are\", Rcross_SLR.mean(), \"and the standard deviation is\", Rcross_SLR.std())"
   ]
  },
  {
   "cell_type": "markdown",
   "id": "a1e39d54-509e-4938-977a-b620b49a02b8",
   "metadata": {},
   "source": [
    "R^2 value from Cross-Validation Score is more then 0.5 it means this value is significate. Bur fron the SLR Cross-Validation in less than 0.5."
   ]
  },
  {
   "cell_type": "markdown",
   "id": "063c0c2f-3f29-4c07-a411-1aa5f8573c09",
   "metadata": {
    "tags": []
   },
   "source": [
    "## Multiple Linear Regression"
   ]
  },
  {
   "cell_type": "code",
   "execution_count": 25,
   "id": "badb7c0b-ee82-4d9b-87dc-3ddada8c0ea2",
   "metadata": {},
   "outputs": [
    {
     "name": "stdout",
     "output_type": "stream",
     "text": [
      "R^2 value from Simple Linear Regression :  0.5376499916783248\n"
     ]
    }
   ],
   "source": [
    "lr_x_eff = LinearRegression()\n",
    "lr_x_eff.fit(x_train1,y_train1)\n",
    "RR_MLR = lr_x_eff.score(x_test1,y_test1) #R^2 of the MLR\n",
    "print('R^2 value from Simple Linear Regression : ', RR_MLR)"
   ]
  },
  {
   "cell_type": "markdown",
   "id": "c71e7551-ee3f-4107-b82d-5084d5cefe9d",
   "metadata": {
    "tags": []
   },
   "source": [
    "### Cross-Validation Score MLR"
   ]
  },
  {
   "cell_type": "code",
   "execution_count": 26,
   "id": "2702975a-526b-4014-88d2-997bfb8aceac",
   "metadata": {},
   "outputs": [
    {
     "data": {
      "text/plain": [
       "array([0.54590419, 0.55494563, 0.54396237, 0.55643849, 0.57036055,\n",
       "       0.52016983, 0.53137666, 0.51793626, 0.55432129, 0.53876184])"
      ]
     },
     "execution_count": 26,
     "metadata": {},
     "output_type": "execute_result"
    }
   ],
   "source": [
    "Rcross_MLR = cross_val_score(lr_x_eff, x_train1, y_train1, cv=10)\n",
    "Rcross_MLR"
   ]
  },
  {
   "cell_type": "code",
   "execution_count": 27,
   "id": "c04f253d-5d1e-4e21-95e0-25c9fd090734",
   "metadata": {},
   "outputs": [
    {
     "name": "stdout",
     "output_type": "stream",
     "text": [
      "The mean of the folds are 0.5434177110564671 and the standard deviation is 0.01584345172402692\n"
     ]
    }
   ],
   "source": [
    "print(\"The mean of the folds are\", Rcross_MLR.mean(), \"and the standard deviation is\", Rcross_MLR.std())"
   ]
  },
  {
   "cell_type": "markdown",
   "id": "dc96ebb7-3d52-4cb2-bea3-003331f4d57a",
   "metadata": {
    "tags": []
   },
   "source": [
    "### Distribution Visualization "
   ]
  },
  {
   "cell_type": "code",
   "execution_count": 28,
   "id": "64fe02f1-a696-4e58-b194-1dd07cb32d31",
   "metadata": {},
   "outputs": [],
   "source": [
    "Y_hat = lr_x_eff.predict(x_train1)"
   ]
  },
  {
   "cell_type": "code",
   "execution_count": 29,
   "id": "69dc6cec-157e-47c8-b611-3ae651115e98",
   "metadata": {},
   "outputs": [
    {
     "data": {
      "text/plain": [
       "array([618070.8006248 , 636977.74093859, 802492.89012127, ...,\n",
       "       650626.14234105, 781357.50628597, 319967.87118861])"
      ]
     },
     "execution_count": 29,
     "metadata": {},
     "output_type": "execute_result"
    }
   ],
   "source": [
    "Y_hat"
   ]
  },
  {
   "cell_type": "code",
   "execution_count": 30,
   "id": "7a2afdbf-2f1f-442d-a23b-e4a55cd36401",
   "metadata": {},
   "outputs": [
    {
     "name": "stderr",
     "output_type": "stream",
     "text": [
      "C:\\Users\\ASUS_simon\\anaconda3\\lib\\site-packages\\seaborn\\distributions.py:2619: FutureWarning: `distplot` is a deprecated function and will be removed in a future version. Please adapt your code to use either `displot` (a figure-level function with similar flexibility) or `kdeplot` (an axes-level function for kernel density plots).\n",
      "  warnings.warn(msg, FutureWarning)\n",
      "C:\\Users\\ASUS_simon\\anaconda3\\lib\\site-packages\\seaborn\\distributions.py:2619: FutureWarning: `distplot` is a deprecated function and will be removed in a future version. Please adapt your code to use either `displot` (a figure-level function with similar flexibility) or `kdeplot` (an axes-level function for kernel density plots).\n",
      "  warnings.warn(msg, FutureWarning)\n"
     ]
    },
    {
     "data": {
      "image/png": "[encoded data removed]",
      "text/plain": [
       "<Figure size 1000x1000 with 1 Axes>"
      ]
     },
     "metadata": {},
     "output_type": "display_data"
    }
   ],
   "source": [
    "plt.figure(figsize = (width,height))\n",
    "\n",
    "ax1=sns.distplot(y,hist=False,color='r',label=\"Actual value\")\n",
    "sns.distplot(Y_hat,hist=False,color='b',label='Predicted Value')\n",
    "\n",
    "plt.title('Actual (Red graph) vs Predicted value fron \\'x_eff_features\\' (Blue graph) for Price')\n",
    "plt.xlabel('Price (dollars)')\n",
    "plt.ylabel('Proportion of Cars')\n",
    "plt.xlim(-1000000/2,3500000)\n",
    "\n",
    "\n",
    "plt.show()\n",
    "plt.close()"
   ]
  },
  {
   "cell_type": "markdown",
   "id": "f3781033-326c-4190-84c3-c1dcf7267cfe",
   "metadata": {},
   "source": [
    "From the distribution graph as you can see on above. prediction graph resonably look similar with actual value."
   ]
  },
  {
   "cell_type": "markdown",
   "id": "39254097-728f-4f57-9ea1-be8f340ecac0",
   "metadata": {
    "tags": []
   },
   "source": [
    "## Polynomial"
   ]
  },
  {
   "cell_type": "markdown",
   "id": "4a623f06-4394-404d-a809-b24927145132",
   "metadata": {
    "jp-MarkdownHeadingCollapsed": true,
    "tags": []
   },
   "source": [
    "### Find the best degree for apply in Polynomial Model"
   ]
  },
  {
   "cell_type": "code",
   "execution_count": 31,
   "id": "c3bfd443-a96e-47d0-9aec-f485003cb724",
   "metadata": {},
   "outputs": [
    {
     "data": {
      "text/plain": [
       "Text(0.5, 1.0, 'R^2 Using Test Data')"
      ]
     },
     "execution_count": 31,
     "metadata": {},
     "output_type": "execute_result"
    },
    {
     "data": {
      "image/png": "[encoded data removed]",
      "text/plain": [
       "<Figure size 640x480 with 1 Axes>"
      ]
     },
     "metadata": {},
     "output_type": "display_data"
    }
   ],
   "source": [
    "lr_poly = LinearRegression()\n",
    "\n",
    "Rsqu_test = []\n",
    "\n",
    "order = [1,2,3,4,5,6,7,8,9]\n",
    "\n",
    "for n in order:\n",
    "\n",
    "    pr = PolynomialFeatures(degree = n)\n",
    "    x_train1_pr = pr.fit_transform(x_train1[[\"sqft_living\"]])\n",
    "    x_test1_pr = pr.fit_transform(x_test1[[\"sqft_living\"]])\n",
    "    \n",
    "    lr_poly.fit(x_train1_pr,y_train1) # Polynomial each degree Model \n",
    "    \n",
    "    Rsqu_test.append(lr_poly.score(x_test1_pr,y_test1))\n",
    "\n",
    "plt.plot(order, Rsqu_test)\n",
    "plt.xlabel('order')\n",
    "plt.ylabel('R^2')\n",
    "plt.title('R^2 Using Test Data')"
   ]
  },
  {
   "cell_type": "code",
   "execution_count": 32,
   "id": "b6fc3d63-e172-46c8-b864-cf6cefa31dae",
   "metadata": {},
   "outputs": [
    {
     "name": "stdout",
     "output_type": "stream",
     "text": [
      "Index degree that got highest R^2 value is : 6 \n",
      "R^2 Value 0.5351325684470158\n"
     ]
    }
   ],
   "source": [
    "print('Index degree that got highest R^2 value is :',Rsqu_test.index(max(Rsqu_test))+1,'\\nR^2 Value',Rsqu_test[Rsqu_test.index(max(Rsqu_test))])"
   ]
  },
  {
   "cell_type": "markdown",
   "id": "1ecd8a64-a35f-47b1-9e1f-c8be034ba3dd",
   "metadata": {},
   "source": [
    "This graph show us maximum of the R^2 value in each difference order. And the Maximum order is order = 3"
   ]
  },
  {
   "cell_type": "markdown",
   "id": "b4e58cbf-cecd-43bf-89b9-49907a8e5969",
   "metadata": {
    "tags": []
   },
   "source": [
    "### Plot Polynomial Degree = 3 Model"
   ]
  },
  {
   "cell_type": "code",
   "execution_count": 33,
   "id": "e1f199a6-278d-44b6-80a8-4817b90523a8",
   "metadata": {},
   "outputs": [
    {
     "name": "stdout",
     "output_type": "stream",
     "text": [
      "            3           2\n",
      "-4.194e-06 x + 0.09123 x - 103.7 x + 3.477e+05\n"
     ]
    }
   ],
   "source": [
    "f_order_3 = np.polyfit(x_train1['sqft_living'],y_train1,3) #This model doesn't use train_test_split\n",
    "p_order_3 = np.poly1d(f_order_3)\n",
    "print(p_order_3)"
   ]
  },
  {
   "cell_type": "code",
   "execution_count": 34,
   "id": "d1aa10ca-113b-4b32-b142-c0b032ec568f",
   "metadata": {},
   "outputs": [],
   "source": [
    "def PlotPolly_1(model, independent_var, dependent_var, name):\n",
    "    x_new=np.linspace(0,14000,100)\n",
    "    y_new=model(x_new)\n",
    "    \n",
    "    plt.plot(independent_var, dependent_var, '.', x_new, y_new,'-')\n",
    "    plt.title('Polynomial Fit with Matplotlib for Price')\n",
    "    ax=plt.gca()\n",
    "    ax.set_facecolor((0.898,0.898,0.898))\n",
    "    fig=plt.gcf()\n",
    "    plt.xlabel(name)\n",
    "    plt.ylabel('Price of Hourse')\n",
    "    \n",
    "    plt.show()\n",
    "    plt.close()"
   ]
  },
  {
   "cell_type": "code",
   "execution_count": 35,
   "id": "7ef920fb-eea2-430b-9404-f22135401a89",
   "metadata": {},
   "outputs": [
    {
     "data": {
      "image/png": "[encoded data removed]",
      "text/plain": [
       "<Figure size 640x480 with 1 Axes>"
      ]
     },
     "metadata": {},
     "output_type": "display_data"
    }
   ],
   "source": [
    "PlotPolly_1(p_order_3, x_test1['sqft_living'], y_test1, 'sqft_living')"
   ]
  },
  {
   "cell_type": "code",
   "execution_count": 36,
   "id": "47cf938c-450e-4bef-bd71-be5b21898f0d",
   "metadata": {},
   "outputs": [
    {
     "name": "stdout",
     "output_type": "stream",
     "text": [
      "The R-square value is:  0.5260814917251495\n"
     ]
    }
   ],
   "source": [
    "r_squared_poly_3 = r2_score(y_test1,p_order_3(x_test1['sqft_living'])) # p is a coeffcient of polynomial equation\n",
    "print('The R-square value is: ', r_squared_poly_3)"
   ]
  },
  {
   "cell_type": "markdown",
   "id": "0b3a015c-a95a-4c14-b9c3-f447c05ed680",
   "metadata": {
    "tags": []
   },
   "source": [
    "### Cross-Validation Score Polynomial"
   ]
  },
  {
   "cell_type": "markdown",
   "id": "248c5aac-823e-4ece-a947-e1c0bdf38367",
   "metadata": {
    "tags": []
   },
   "source": [
    "#### Create polynomial with degree = 3"
   ]
  },
  {
   "cell_type": "code",
   "execution_count": 37,
   "id": "e66c9c4e-5afa-44a0-ae61-1bea1292f6c7",
   "metadata": {},
   "outputs": [
    {
     "data": {
      "text/plain": [
       "LinearRegression()"
      ]
     },
     "execution_count": 37,
     "metadata": {},
     "output_type": "execute_result"
    }
   ],
   "source": [
    "lr_poly_3 = LinearRegression()\n",
    "pr_de_3 = PolynomialFeatures(degree = 3)\n",
    "\n",
    "x_train1_pr_de_3 = pr_de_3.fit_transform(x_train1[[\"sqft_living\"]])\n",
    "x_test1_pr_de_3 = pr_de_3.fit_transform(x_test1[[\"sqft_living\"]])\n",
    "\n",
    "lr_poly_3.fit(x_train1_pr_de_3, y_train1)"
   ]
  },
  {
   "cell_type": "code",
   "execution_count": 38,
   "id": "1d6f15de-03dd-41f2-92b1-01be15c5e713",
   "metadata": {},
   "outputs": [
    {
     "data": {
      "text/plain": [
       "array([0.41031281, 0.48114223, 0.56542862, 0.55944224, 0.44240556,\n",
       "       0.39171178, 0.46317327, 0.51602422, 0.51802454, 0.56643022])"
      ]
     },
     "execution_count": 38,
     "metadata": {},
     "output_type": "execute_result"
    }
   ],
   "source": [
    "Rcross_poly_de_3 = cross_val_score(lr_poly_3, x_test1_pr_de_3, y_test1, cv=10)\n",
    "Rcross_poly_de_3"
   ]
  },
  {
   "cell_type": "code",
   "execution_count": 39,
   "id": "434add4d-809d-41cb-a893-caa8eaefad29",
   "metadata": {},
   "outputs": [
    {
     "name": "stdout",
     "output_type": "stream",
     "text": [
      "The mean of the folds are 0.4914095503539941 and the standard deviation is 0.06072069906729988\n"
     ]
    }
   ],
   "source": [
    "print(\"The mean of the folds are\", Rcross_poly_de_3.mean(), \"and the standard deviation is\", Rcross_poly_de_3.std())"
   ]
  },
  {
   "cell_type": "code",
   "execution_count": null,
   "id": "cfbc2d5a-e73a-48f1-ba21-aa0b2bc54074",
   "metadata": {},
   "outputs": [],
   "source": []
  },
  {
   "cell_type": "markdown",
   "id": "75d98d45-7d84-44cd-9355-752734ed5e5a",
   "metadata": {
    "tags": []
   },
   "source": [
    "## Multivariate Polynomial Function"
   ]
  },
  {
   "cell_type": "code",
   "execution_count": 40,
   "id": "c9077f60-d3d9-402c-ae5f-97b62e931242",
   "metadata": {
    "tags": []
   },
   "outputs": [
    {
     "data": {
      "text/html": [
       "<div>\n",
       "<style scoped>\n",
       "    .dataframe tbody tr th:only-of-type {\n",
       "        vertical-align: middle;\n",
       "    }\n",
       "\n",
       "    .dataframe tbody tr th {\n",
       "        vertical-align: top;\n",
       "    }\n",
       "\n",
       "    .dataframe thead th {\n",
       "        text-align: right;\n",
       "    }\n",
       "</style>\n",
       "<table border=\"1\" class=\"dataframe\">\n",
       "  <thead>\n",
       "    <tr style=\"text-align: right;\">\n",
       "      <th></th>\n",
       "      <th>sqft_living</th>\n",
       "      <th>grade</th>\n",
       "      <th>sqft_above</th>\n",
       "      <th>sqft_living15</th>\n",
       "      <th>bathrooms</th>\n",
       "    </tr>\n",
       "  </thead>\n",
       "  <tbody>\n",
       "    <tr>\n",
       "      <th>0</th>\n",
       "      <td>1180</td>\n",
       "      <td>7</td>\n",
       "      <td>1180</td>\n",
       "      <td>1340</td>\n",
       "      <td>1.00</td>\n",
       "    </tr>\n",
       "    <tr>\n",
       "      <th>1</th>\n",
       "      <td>2570</td>\n",
       "      <td>7</td>\n",
       "      <td>2170</td>\n",
       "      <td>1690</td>\n",
       "      <td>2.25</td>\n",
       "    </tr>\n",
       "    <tr>\n",
       "      <th>2</th>\n",
       "      <td>770</td>\n",
       "      <td>6</td>\n",
       "      <td>770</td>\n",
       "      <td>2720</td>\n",
       "      <td>1.00</td>\n",
       "    </tr>\n",
       "    <tr>\n",
       "      <th>3</th>\n",
       "      <td>1960</td>\n",
       "      <td>7</td>\n",
       "      <td>1050</td>\n",
       "      <td>1360</td>\n",
       "      <td>3.00</td>\n",
       "    </tr>\n",
       "    <tr>\n",
       "      <th>4</th>\n",
       "      <td>1680</td>\n",
       "      <td>8</td>\n",
       "      <td>1680</td>\n",
       "      <td>1800</td>\n",
       "      <td>2.00</td>\n",
       "    </tr>\n",
       "  </tbody>\n",
       "</table>\n",
       "</div>"
      ],
      "text/plain": [
       "   sqft_living  grade  sqft_above  sqft_living15  bathrooms\n",
       "0         1180      7        1180           1340       1.00\n",
       "1         2570      7        2170           1690       2.25\n",
       "2          770      6         770           2720       1.00\n",
       "3         1960      7        1050           1360       3.00\n",
       "4         1680      8        1680           1800       2.00"
      ]
     },
     "execution_count": 40,
     "metadata": {},
     "output_type": "execute_result"
    }
   ],
   "source": [
    "x_eff_features.head()"
   ]
  },
  {
   "cell_type": "code",
   "execution_count": 41,
   "id": "0b09aca0-a9db-46e1-b392-a142ec7cd733",
   "metadata": {},
   "outputs": [
    {
     "data": {
      "text/html": [
       "<div>\n",
       "<style scoped>\n",
       "    .dataframe tbody tr th:only-of-type {\n",
       "        vertical-align: middle;\n",
       "    }\n",
       "\n",
       "    .dataframe tbody tr th {\n",
       "        vertical-align: top;\n",
       "    }\n",
       "\n",
       "    .dataframe thead th {\n",
       "        text-align: right;\n",
       "    }\n",
       "</style>\n",
       "<table border=\"1\" class=\"dataframe\">\n",
       "  <thead>\n",
       "    <tr style=\"text-align: right;\">\n",
       "      <th></th>\n",
       "      <th>sqft_living</th>\n",
       "      <th>grade</th>\n",
       "      <th>sqft_above</th>\n",
       "      <th>sqft_living15</th>\n",
       "      <th>bathrooms</th>\n",
       "    </tr>\n",
       "  </thead>\n",
       "  <tbody>\n",
       "    <tr>\n",
       "      <th>20046</th>\n",
       "      <td>2480</td>\n",
       "      <td>8</td>\n",
       "      <td>2480</td>\n",
       "      <td>2510</td>\n",
       "      <td>2.50</td>\n",
       "    </tr>\n",
       "    <tr>\n",
       "      <th>7278</th>\n",
       "      <td>2060</td>\n",
       "      <td>8</td>\n",
       "      <td>1050</td>\n",
       "      <td>2690</td>\n",
       "      <td>2.50</td>\n",
       "    </tr>\n",
       "    <tr>\n",
       "      <th>13226</th>\n",
       "      <td>2800</td>\n",
       "      <td>9</td>\n",
       "      <td>2800</td>\n",
       "      <td>3400</td>\n",
       "      <td>2.50</td>\n",
       "    </tr>\n",
       "    <tr>\n",
       "      <th>6832</th>\n",
       "      <td>1950</td>\n",
       "      <td>7</td>\n",
       "      <td>1120</td>\n",
       "      <td>2000</td>\n",
       "      <td>2.50</td>\n",
       "    </tr>\n",
       "    <tr>\n",
       "      <th>21131</th>\n",
       "      <td>3030</td>\n",
       "      <td>8</td>\n",
       "      <td>3030</td>\n",
       "      <td>3030</td>\n",
       "      <td>2.75</td>\n",
       "    </tr>\n",
       "  </tbody>\n",
       "</table>\n",
       "</div>"
      ],
      "text/plain": [
       "       sqft_living  grade  sqft_above  sqft_living15  bathrooms\n",
       "20046         2480      8        2480           2510       2.50\n",
       "7278          2060      8        1050           2690       2.50\n",
       "13226         2800      9        2800           3400       2.50\n",
       "6832          1950      7        1120           2000       2.50\n",
       "21131         3030      8        3030           3030       2.75"
      ]
     },
     "execution_count": 41,
     "metadata": {},
     "output_type": "execute_result"
    }
   ],
   "source": [
    "x_train1.head()"
   ]
  },
  {
   "cell_type": "code",
   "execution_count": 42,
   "id": "51b7c810-e9ba-4384-96ad-2bee3a656d2f",
   "metadata": {},
   "outputs": [],
   "source": [
    "from sklearn.preprocessing import PolynomialFeatures as PolyFeat"
   ]
  },
  {
   "cell_type": "code",
   "execution_count": 43,
   "id": "846f5929-c7a6-4d96-89fc-c695d17a7984",
   "metadata": {},
   "outputs": [
    {
     "data": {
      "text/plain": [
       "PolynomialFeatures(degree=3)"
      ]
     },
     "execution_count": 43,
     "metadata": {},
     "output_type": "execute_result"
    }
   ],
   "source": [
    "#set the x teain and x test in polynomial with 3 order\n",
    "pr_mul_de_3 = PolynomialFeatures(degree = 3)\n",
    "x_train1_mul_de_3_pr = pr_mul_de_3.fit_transform(x_train1)\n",
    "x_test1_mul_de_3_pr = pr_mul_de_3.fit_transform(x_test1)\n",
    "pr_mul_de_3"
   ]
  },
  {
   "cell_type": "code",
   "execution_count": 44,
   "id": "04ff6b3d-7111-4070-858b-c6724b12266e",
   "metadata": {},
   "outputs": [
    {
     "data": {
      "text/plain": [
       "LinearRegression()"
      ]
     },
     "execution_count": 44,
     "metadata": {},
     "output_type": "execute_result"
    }
   ],
   "source": [
    "# Create equation\n",
    "poly_mul_de_3 = LinearRegression()\n",
    "poly_mul_de_3.fit(x_train1_mul_de_3_pr,y_train1)"
   ]
  },
  {
   "cell_type": "code",
   "execution_count": 46,
   "id": "eb3b79ee-2e6f-46aa-ade8-35c3459451f1",
   "metadata": {},
   "outputs": [],
   "source": [
    "#Predict value\n",
    "#y_hat = poly.predict(x_test1_mul_de_3_pr)\n",
    "#y_hat[0:5]"
   ]
  },
  {
   "cell_type": "code",
   "execution_count": 47,
   "id": "7b20437c-0b9b-4ed0-8e5b-e22bd0e4b98c",
   "metadata": {},
   "outputs": [
    {
     "name": "stdout",
     "output_type": "stream",
     "text": [
      "Polynomial R^2 value with 3 order : 0.623963746506982\n"
     ]
    }
   ],
   "source": [
    "print('Polynomial R^2 value with 3 order :',poly_mul_de_3.score(x_test1_mul_de_3_pr,y_test1)) # This polynimial differ from the above one by the below use x_train1"
   ]
  },
  {
   "cell_type": "markdown",
   "id": "597c700b-d47f-4613-98ec-752f6989691f",
   "metadata": {},
   "source": []
  },
  {
   "cell_type": "code",
   "execution_count": 48,
   "id": "e9155b14-ac30-4eef-a83c-a736cadf25ec",
   "metadata": {},
   "outputs": [
    {
     "data": {
      "text/plain": [
       "Text(0.5, 1.0, 'R^2 Using Test Data')"
      ]
     },
     "execution_count": 48,
     "metadata": {},
     "output_type": "execute_result"
    },
    {
     "data": {
      "image/png": "[encoded data removed]",
      "text/plain": [
       "<Figure size 640x480 with 1 Axes>"
      ]
     },
     "metadata": {},
     "output_type": "display_data"
    }
   ],
   "source": [
    "lr_test_degree = LinearRegression()\n",
    "\n",
    "Rsqu_test_degree = []\n",
    "\n",
    "order = [1,2,3,4]\n",
    "\n",
    "for n in order:\n",
    "\n",
    "    pr = PolynomialFeatures(degree = n)\n",
    "    x_train_test_pr = pr.fit_transform(x_train1)\n",
    "    x_test_pr = pr.fit_transform(x_test1)\n",
    "    \n",
    "    lr_test_degree.fit(x_train_test_pr,y_train1)\n",
    "    \n",
    "    Rsqu_test_degree.append(lr_test_degree.score(x_test_pr,y_test1))\n",
    "\n",
    "plt.plot(order, Rsqu_test_degree)\n",
    "plt.xlabel('order')\n",
    "plt.ylabel('R^2')\n",
    "plt.title('R^2 Using Test Data')"
   ]
  },
  {
   "cell_type": "code",
   "execution_count": 49,
   "id": "7d4a590f-c672-4255-9cfa-4989df766144",
   "metadata": {},
   "outputs": [
    {
     "name": "stdout",
     "output_type": "stream",
     "text": [
      "Index degree that got highest R^2 value is : 3 \n",
      "R^2 Value 0.623963746506982\n"
     ]
    }
   ],
   "source": [
    "print('Index degree that got highest R^2 value is :',Rsqu_test_degree.index(max(Rsqu_test_degree))+1,'\\nR^2 Value',Rsqu_test_degree[Rsqu_test_degree.index(max(Rsqu_test_degree))])"
   ]
  },
  {
   "cell_type": "markdown",
   "id": "233b0100-1602-4678-91b5-60efdadf3e2e",
   "metadata": {},
   "source": [
    "Checking the R^2 value to find the highest degree"
   ]
  },
  {
   "cell_type": "markdown",
   "id": "d509ee11-d0c1-4512-83b5-547529394385",
   "metadata": {
    "tags": []
   },
   "source": [
    "### Cross-Validation Score Multivariate Polynomial Function"
   ]
  },
  {
   "cell_type": "code",
   "execution_count": 164,
   "id": "6d6e61b7-abe7-4f76-8493-4291520f42ef",
   "metadata": {},
   "outputs": [
    {
     "data": {
      "text/plain": [
       "0.623963746506982"
      ]
     },
     "execution_count": 164,
     "metadata": {},
     "output_type": "execute_result"
    }
   ],
   "source": [
    "# revise cross-validation score\n",
    "\n",
    "# Create multipolynomial that have degree = 3\n",
    "pr_degree_3 = PolynomialFeatures(degree = 3)\n",
    "lr_multi_poly_degree_3 = LinearRegression() \n",
    "\n",
    "x_train_pr_degree_3 = pr_degree_3.fit_transform(x_train1)\n",
    "x_test_pr_degree_3 = pr_degree_3.fit_transform(x_test1)\n",
    "lr_multi_poly_degree_3.fit(x_train_pr_degree_3,y_train1)\n",
    "\n",
    "lr_multi_poly_degree_3.score(x_test_pr_degree_3,y_test1)"
   ]
  },
  {
   "cell_type": "code",
   "execution_count": 156,
   "id": "572d3694-aa9f-47e3-9745-cfeced935dd3",
   "metadata": {},
   "outputs": [
    {
     "data": {
      "text/plain": [
       "array([0.51418746, 0.61337076, 0.5960352 , 0.63775947, 0.59737519,\n",
       "       0.28580732, 0.53561893, 0.61130202, 0.5609819 , 0.76232175])"
      ]
     },
     "execution_count": 156,
     "metadata": {},
     "output_type": "execute_result"
    }
   ],
   "source": [
    "Rcross_Mul_poly = cross_val_score(lr_multi_poly_degree_3, x_test_pr_degree_3, y_test1, cv=10)\n",
    "Rcross_Mul_poly"
   ]
  },
  {
   "cell_type": "code",
   "execution_count": 157,
   "id": "48ad533c-1898-4741-a881-d343cd551858",
   "metadata": {},
   "outputs": [
    {
     "name": "stdout",
     "output_type": "stream",
     "text": [
      "The mean of the folds are 0.5714759984334863 and the standard deviation is 0.11476725601489633\n"
     ]
    }
   ],
   "source": [
    "print(\"The mean of the folds are\", Rcross_Mul_poly.mean(), \"and the standard deviation is\", Rcross_Mul_poly.std())"
   ]
  },
  {
   "cell_type": "markdown",
   "id": "9a9c9988-9db9-484c-b4c9-d9e83b71a81d",
   "metadata": {
    "tags": []
   },
   "source": [
    "### Test apply ridge regression"
   ]
  },
  {
   "cell_type": "code",
   "execution_count": 196,
   "id": "89a1a735-db07-42f9-b40c-e46690dacb40",
   "metadata": {},
   "outputs": [],
   "source": [
    "from sklearn.linear_model import Ridge"
   ]
  },
  {
   "cell_type": "code",
   "execution_count": null,
   "id": "78ae8b1a-8f99-4c8e-9b57-d170307f42d4",
   "metadata": {},
   "outputs": [],
   "source": []
  },
  {
   "cell_type": "code",
   "execution_count": 197,
   "id": "62330c78-85ec-43e6-8a5f-f408bfc00dcc",
   "metadata": {},
   "outputs": [],
   "source": [
    "from sklearn.preprocessing import StandardScaler\n",
    "\n",
    "# Create a StandardScaler object\n",
    "scaler = StandardScaler()\n",
    "\n",
    "# Fit the scaler to the training data and transform the training data\n",
    "x_train1_mul_de_3_scaled = scaler.fit_transform(x_train1)\n",
    "\n",
    "# Transform the test data using the fitted scaler\n",
    "x_test1_mul_de_3_scaled = scaler.transform(x_test1)\n"
   ]
  },
  {
   "cell_type": "code",
   "execution_count": null,
   "id": "e94eba83-91d5-4300-b555-e8b9ad8076bc",
   "metadata": {},
   "outputs": [],
   "source": []
  },
  {
   "cell_type": "code",
   "execution_count": 200,
   "id": "29ea0741-ccaa-4b23-8611-7b50c90bfde4",
   "metadata": {},
   "outputs": [],
   "source": [
    "# Tranform z-score value into polynomial equation\n",
    "# for prevent the warning that the matrix used in the computation \n",
    "#may be near singular or badly conditioned, \n",
    "#which can lead to inaccurate results\n",
    "\n",
    "Multivarpoly = PolynomialFeatures()\n",
    "\n",
    "x_train1_mul_de_3_pr_scaled = Multivarpoly.fit_transform(x_train1_mul_de_3_scaled)\n",
    "x_test1_mul_de_3_pr_scaled = Multivarpoly.transform(x_test1_mul_de_3_scaled)\n"
   ]
  },
  {
   "cell_type": "code",
   "execution_count": 215,
   "id": "9080b8b8-3d4b-4d28-819f-730e59c7320d",
   "metadata": {},
   "outputs": [
    {
     "name": "stderr",
     "output_type": "stream",
     "text": [
      "100%|██████████| 1000/1000 [00:10<00:00, 94.15it/s, Test Score=0.583, Train Score=0.589]\n"
     ]
    }
   ],
   "source": [
    "from tqdm import tqdm\n",
    "\n",
    "Rsqu_test = []\n",
    "Rsqu_train = []\n",
    "dummy1 = []\n",
    "Alpha = 10*np.array(range(0,1000))\n",
    "pbar = tqdm(Alpha)\n",
    "\n",
    "for alpha in pbar:\n",
    "    RigeModel = Ridge(alpha = alpha)\n",
    "    RigeModel.fit(x_train1_mul_de_3_pr_scaled, y_train1)\n",
    "    test_score, train_score = RigeModel.score(x_test1_mul_de_3_pr_scaled, y_test1), RigeModel.score(x_train1_mul_de_3_pr_scaled,y_train1)\n",
    "    \n",
    "    pbar.set_postfix({\"Test Score\": test_score, \"Train Score\": train_score})\n",
    "    \n",
    "    Rsqu_test.append(test_score)\n",
    "    Rsqu_train.append(train_score)"
   ]
  },
  {
   "cell_type": "code",
   "execution_count": 216,
   "id": "e151f94c-3a43-4090-a2b9-bb7fbd4d0e5e",
   "metadata": {},
   "outputs": [
    {
     "data": {
      "text/plain": [
       "<matplotlib.legend.Legend at 0x258c31c4c70>"
      ]
     },
     "execution_count": 216,
     "metadata": {},
     "output_type": "execute_result"
    },
    {
     "data": {
      "image/png": "[encoded data removed]",
      "text/plain": [
       "<Figure size 1200x1000 with 1 Axes>"
      ]
     },
     "metadata": {},
     "output_type": "display_data"
    }
   ],
   "source": [
    "width = 12\n",
    "height = 10\n",
    "plt.figure(figsize=(width, height))\n",
    "\n",
    "plt.plot(Alpha,Rsqu_test, label='validation data  ')\n",
    "plt.plot(Alpha,Rsqu_train, 'r', label='training Data ')\n",
    "plt.xlabel('alpha')\n",
    "plt.ylabel('R^2')\n",
    "plt.legend()"
   ]
  },
  {
   "cell_type": "code",
   "execution_count": 204,
   "id": "5e4c809d-a5e8-4c39-af20-b1fb4eb98a04",
   "metadata": {},
   "outputs": [
    {
     "name": "stdout",
     "output_type": "stream",
     "text": [
      "Best R-squared score: 0.6157346245371322\n",
      "Corresponding alpha value: 30\n"
     ]
    }
   ],
   "source": [
    "best_index = np.argmax(Rsqu_test)\n",
    "best_alpha = Alpha[best_index]\n",
    "best_R2 = Rsqu_test[best_index]\n",
    "\n",
    "print(\"Best R-squared score:\", best_R2)\n",
    "print(\"Corresponding alpha value:\", best_alpha)\n"
   ]
  },
  {
   "cell_type": "markdown",
   "id": "5d6669dc-6cc3-4adc-9a68-468bf97640d2",
   "metadata": {},
   "source": [
    "From the calculation R^2 value after apply ridge regression we can get the best alpha for apply in model for be predictor."
   ]
  },
  {
   "cell_type": "markdown",
   "id": "04d1d8e4-b027-407e-82eb-56a293735ffd",
   "metadata": {
    "tags": []
   },
   "source": [
    "### Cross-Validation Score Multivariate Polynomial Function After Apply Ridge Regression"
   ]
  },
  {
   "cell_type": "code",
   "execution_count": 224,
   "id": "a48c6bf9-6d8a-4a13-9f71-d52736232c89",
   "metadata": {},
   "outputs": [],
   "source": [
    "RigeModel_best_alpha = Ridge(alpha = best_alpha)"
   ]
  },
  {
   "cell_type": "code",
   "execution_count": 225,
   "id": "b967449f-65d5-47e6-a110-8c70955f02f3",
   "metadata": {
    "tags": []
   },
   "outputs": [
    {
     "data": {
      "text/plain": [
       "array([0.5229607 , 0.56285302, 0.60665114, 0.63594467, 0.58010118,\n",
       "       0.5280647 , 0.56778316, 0.62808614, 0.56018657, 0.71945866])"
      ]
     },
     "execution_count": 225,
     "metadata": {},
     "output_type": "execute_result"
    }
   ],
   "source": [
    "Rcross_Mul_poly_r = cross_val_score(RigeModel_best_alpha,x_test1_mul_de_3_pr_scaled, y_test1,cv=10)\n",
    "Rcross_Mul_poly_r"
   ]
  },
  {
   "cell_type": "code",
   "execution_count": 226,
   "id": "5156c1b9-e996-4b0a-8c73-9ba49774fed3",
   "metadata": {},
   "outputs": [
    {
     "name": "stdout",
     "output_type": "stream",
     "text": [
      "The mean of the folds are 0.5912089922531709 and the standard deviation is 0.055795410848471144\n"
     ]
    }
   ],
   "source": [
    "print(\"The mean of the folds are\", Rcross_Mul_poly_r.mean(), \"and the standard deviation is\", Rcross_Mul_poly_r.std())"
   ]
  },
  {
   "cell_type": "markdown",
   "id": "e077e75e-32c4-4ea5-8e39-6393fd8064c3",
   "metadata": {},
   "source": [
    "## Determining a Good model for price prediction."
   ]
  },
  {
   "cell_type": "markdown",
   "id": "91eb1176-8a87-4448-81a1-cbe6563b90f6",
   "metadata": {},
   "source": [
    "0.5714759984334863<p>From we trial with various model for price prediction. We can indicate whice model is good enough for be predictor by R-squared.\n",
    "</p>\n",
    "<h4>Let's look at the values from different models</h4>\n",
    "<p>Simple Linear Regression\n",
    "<ul>\n",
    "    <li>R-squared: 0.4832715584837527</li>\n",
    "    <li>R-squared with cross-validation : 0.4923599986485237</li>\n",
    "</ul>\n",
    "</p>\n",
    "<p>Multiple Linear Regression\n",
    "<ul>\n",
    "    <li>R-squared: 0.5376499916783248</li>\n",
    "    <li>R-squared with cross-validation : 0.5434177110564671</li>\n",
    "</ul>\n",
    "</p>\n",
    "\n",
    "<p>Polynomial Fit\n",
    "<ul>\n",
    "    <li>polynomial R-squared: 0.5260814917251495</li>\n",
    "    <li>polynomial R-squared with cross-validation : 0.4914095503539941</li>\n",
    "</ul>\n",
    "</p>\n",
    "\n",
    "<p>Multivariate Polynomial Function\n",
    "<ul>\n",
    "    <li>Multivariate Polynomial R-squared: 0.6157346245371322</li>\n",
    "    <li>Multivariate Polynomial R-squared with cross-validation and apply ridge regression: 0.5912089922531709 </li>\n",
    "</ul>\n",
    "</p>\n"
   ]
  },
  {
   "cell_type": "markdown",
   "id": "0ede6f90-6829-4a3a-8d24-b6dbdaa89919",
   "metadata": {},
   "source": [
    "<h1>Conclusion</h1>\n",
    "Comparing the model that created by using R-squared we can see <b>Multivariate Polynomial R-squared with cross-validation and apply ridge regression model</b> to be able to predict price from our dataset. Because Multivariate Polynomial have the greatest R-squared value but have to improve because the R^2 value is still not good correlated."
   ]
  },
  {
   "cell_type": "markdown",
   "id": "db8d54e1-c2ef-4e47-bdf1-383613213d20",
   "metadata": {},
   "source": [
    "# suggestion\n",
    "the reason why the R^2 value from predictor have small amount maybe because the data that we have is not efficient for predict price. You can see the correlation of each features with price. The correlation value is small amount, in the good condition for correlation value magnitude are between 0.7 and 0.9 indicate variables which can be considered highly correlated."
   ]
  },
  {
   "cell_type": "markdown",
   "id": "86d03b28-d455-49d8-9579-211465f9a4cc",
   "metadata": {},
   "source": [
    "## Author\n",
    "\n",
    "Link.in: <a href=\"https://www.linkedin.com/in/siwakorn-naratch/\">Siwakorn Naratch</a>"
   ]
  }
 ],
 "metadata": {
  "kernelspec": {
   "display_name": "Python 3 (ipykernel)",
   "language": "python",
   "name": "python3"
  },
  "language_info": {
   "codemirror_mode": {
    "name": "ipython",
    "version": 3
   },
   "file_extension": ".py",
   "mimetype": "text/x-python",
   "name": "python",
   "nbconvert_exporter": "python",
   "pygments_lexer": "ipython3",
   "version": "3.9.13"
  }
 },
 "nbformat": 4,
 "nbformat_minor": 5
}
